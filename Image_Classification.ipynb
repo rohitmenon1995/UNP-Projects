{
  "nbformat": 4,
  "nbformat_minor": 0,
  "metadata": {
    "colab": {
      "provenance": [],
      "include_colab_link": true
    },
    "kernelspec": {
      "name": "python3",
      "display_name": "Python 3"
    },
    "language_info": {
      "name": "python"
    },
    "widgets": {
      "application/vnd.jupyter.widget-state+json": {
        "0bd47b20ba49411cac68fd04abe248b2": {
          "model_module": "@jupyter-widgets/controls",
          "model_name": "HBoxModel",
          "model_module_version": "1.5.0",
          "state": {
            "_dom_classes": [],
            "_model_module": "@jupyter-widgets/controls",
            "_model_module_version": "1.5.0",
            "_model_name": "HBoxModel",
            "_view_count": null,
            "_view_module": "@jupyter-widgets/controls",
            "_view_module_version": "1.5.0",
            "_view_name": "HBoxView",
            "box_style": "",
            "children": [
              "IPY_MODEL_5722a587e2f3428dab3279c18c337e7e",
              "IPY_MODEL_283ce4e694ec42f3bea3d155d5201dc3",
              "IPY_MODEL_3f59ad117168425ea3d98107820fc962"
            ],
            "layout": "IPY_MODEL_1d3a78291a2a48efa4bd26893c5a23b7"
          }
        },
        "5722a587e2f3428dab3279c18c337e7e": {
          "model_module": "@jupyter-widgets/controls",
          "model_name": "HTMLModel",
          "model_module_version": "1.5.0",
          "state": {
            "_dom_classes": [],
            "_model_module": "@jupyter-widgets/controls",
            "_model_module_version": "1.5.0",
            "_model_name": "HTMLModel",
            "_view_count": null,
            "_view_module": "@jupyter-widgets/controls",
            "_view_module_version": "1.5.0",
            "_view_name": "HTMLView",
            "description": "",
            "description_tooltip": null,
            "layout": "IPY_MODEL_81acc247dd87416cb3bfa9e8acef5c56",
            "placeholder": "​",
            "style": "IPY_MODEL_77d050905248446b87c3fd578df4faa7",
            "value": "100%"
          }
        },
        "283ce4e694ec42f3bea3d155d5201dc3": {
          "model_module": "@jupyter-widgets/controls",
          "model_name": "FloatProgressModel",
          "model_module_version": "1.5.0",
          "state": {
            "_dom_classes": [],
            "_model_module": "@jupyter-widgets/controls",
            "_model_module_version": "1.5.0",
            "_model_name": "FloatProgressModel",
            "_view_count": null,
            "_view_module": "@jupyter-widgets/controls",
            "_view_module_version": "1.5.0",
            "_view_name": "ProgressView",
            "bar_style": "success",
            "description": "",
            "description_tooltip": null,
            "layout": "IPY_MODEL_81c86445f5544a7cbcc706b5223ef671",
            "max": 9912422,
            "min": 0,
            "orientation": "horizontal",
            "style": "IPY_MODEL_954ef5d626724c38bd9ac5bfa8b7b809",
            "value": 9912422
          }
        },
        "3f59ad117168425ea3d98107820fc962": {
          "model_module": "@jupyter-widgets/controls",
          "model_name": "HTMLModel",
          "model_module_version": "1.5.0",
          "state": {
            "_dom_classes": [],
            "_model_module": "@jupyter-widgets/controls",
            "_model_module_version": "1.5.0",
            "_model_name": "HTMLModel",
            "_view_count": null,
            "_view_module": "@jupyter-widgets/controls",
            "_view_module_version": "1.5.0",
            "_view_name": "HTMLView",
            "description": "",
            "description_tooltip": null,
            "layout": "IPY_MODEL_a3c3a4f6edc64d73a0e8ef1748fc132a",
            "placeholder": "​",
            "style": "IPY_MODEL_32df99a6d92a4034bc8b22b7df472754",
            "value": " 9912422/9912422 [00:00&lt;00:00, 40629355.84it/s]"
          }
        },
        "1d3a78291a2a48efa4bd26893c5a23b7": {
          "model_module": "@jupyter-widgets/base",
          "model_name": "LayoutModel",
          "model_module_version": "1.2.0",
          "state": {
            "_model_module": "@jupyter-widgets/base",
            "_model_module_version": "1.2.0",
            "_model_name": "LayoutModel",
            "_view_count": null,
            "_view_module": "@jupyter-widgets/base",
            "_view_module_version": "1.2.0",
            "_view_name": "LayoutView",
            "align_content": null,
            "align_items": null,
            "align_self": null,
            "border": null,
            "bottom": null,
            "display": null,
            "flex": null,
            "flex_flow": null,
            "grid_area": null,
            "grid_auto_columns": null,
            "grid_auto_flow": null,
            "grid_auto_rows": null,
            "grid_column": null,
            "grid_gap": null,
            "grid_row": null,
            "grid_template_areas": null,
            "grid_template_columns": null,
            "grid_template_rows": null,
            "height": null,
            "justify_content": null,
            "justify_items": null,
            "left": null,
            "margin": null,
            "max_height": null,
            "max_width": null,
            "min_height": null,
            "min_width": null,
            "object_fit": null,
            "object_position": null,
            "order": null,
            "overflow": null,
            "overflow_x": null,
            "overflow_y": null,
            "padding": null,
            "right": null,
            "top": null,
            "visibility": null,
            "width": null
          }
        },
        "81acc247dd87416cb3bfa9e8acef5c56": {
          "model_module": "@jupyter-widgets/base",
          "model_name": "LayoutModel",
          "model_module_version": "1.2.0",
          "state": {
            "_model_module": "@jupyter-widgets/base",
            "_model_module_version": "1.2.0",
            "_model_name": "LayoutModel",
            "_view_count": null,
            "_view_module": "@jupyter-widgets/base",
            "_view_module_version": "1.2.0",
            "_view_name": "LayoutView",
            "align_content": null,
            "align_items": null,
            "align_self": null,
            "border": null,
            "bottom": null,
            "display": null,
            "flex": null,
            "flex_flow": null,
            "grid_area": null,
            "grid_auto_columns": null,
            "grid_auto_flow": null,
            "grid_auto_rows": null,
            "grid_column": null,
            "grid_gap": null,
            "grid_row": null,
            "grid_template_areas": null,
            "grid_template_columns": null,
            "grid_template_rows": null,
            "height": null,
            "justify_content": null,
            "justify_items": null,
            "left": null,
            "margin": null,
            "max_height": null,
            "max_width": null,
            "min_height": null,
            "min_width": null,
            "object_fit": null,
            "object_position": null,
            "order": null,
            "overflow": null,
            "overflow_x": null,
            "overflow_y": null,
            "padding": null,
            "right": null,
            "top": null,
            "visibility": null,
            "width": null
          }
        },
        "77d050905248446b87c3fd578df4faa7": {
          "model_module": "@jupyter-widgets/controls",
          "model_name": "DescriptionStyleModel",
          "model_module_version": "1.5.0",
          "state": {
            "_model_module": "@jupyter-widgets/controls",
            "_model_module_version": "1.5.0",
            "_model_name": "DescriptionStyleModel",
            "_view_count": null,
            "_view_module": "@jupyter-widgets/base",
            "_view_module_version": "1.2.0",
            "_view_name": "StyleView",
            "description_width": ""
          }
        },
        "81c86445f5544a7cbcc706b5223ef671": {
          "model_module": "@jupyter-widgets/base",
          "model_name": "LayoutModel",
          "model_module_version": "1.2.0",
          "state": {
            "_model_module": "@jupyter-widgets/base",
            "_model_module_version": "1.2.0",
            "_model_name": "LayoutModel",
            "_view_count": null,
            "_view_module": "@jupyter-widgets/base",
            "_view_module_version": "1.2.0",
            "_view_name": "LayoutView",
            "align_content": null,
            "align_items": null,
            "align_self": null,
            "border": null,
            "bottom": null,
            "display": null,
            "flex": null,
            "flex_flow": null,
            "grid_area": null,
            "grid_auto_columns": null,
            "grid_auto_flow": null,
            "grid_auto_rows": null,
            "grid_column": null,
            "grid_gap": null,
            "grid_row": null,
            "grid_template_areas": null,
            "grid_template_columns": null,
            "grid_template_rows": null,
            "height": null,
            "justify_content": null,
            "justify_items": null,
            "left": null,
            "margin": null,
            "max_height": null,
            "max_width": null,
            "min_height": null,
            "min_width": null,
            "object_fit": null,
            "object_position": null,
            "order": null,
            "overflow": null,
            "overflow_x": null,
            "overflow_y": null,
            "padding": null,
            "right": null,
            "top": null,
            "visibility": null,
            "width": null
          }
        },
        "954ef5d626724c38bd9ac5bfa8b7b809": {
          "model_module": "@jupyter-widgets/controls",
          "model_name": "ProgressStyleModel",
          "model_module_version": "1.5.0",
          "state": {
            "_model_module": "@jupyter-widgets/controls",
            "_model_module_version": "1.5.0",
            "_model_name": "ProgressStyleModel",
            "_view_count": null,
            "_view_module": "@jupyter-widgets/base",
            "_view_module_version": "1.2.0",
            "_view_name": "StyleView",
            "bar_color": null,
            "description_width": ""
          }
        },
        "a3c3a4f6edc64d73a0e8ef1748fc132a": {
          "model_module": "@jupyter-widgets/base",
          "model_name": "LayoutModel",
          "model_module_version": "1.2.0",
          "state": {
            "_model_module": "@jupyter-widgets/base",
            "_model_module_version": "1.2.0",
            "_model_name": "LayoutModel",
            "_view_count": null,
            "_view_module": "@jupyter-widgets/base",
            "_view_module_version": "1.2.0",
            "_view_name": "LayoutView",
            "align_content": null,
            "align_items": null,
            "align_self": null,
            "border": null,
            "bottom": null,
            "display": null,
            "flex": null,
            "flex_flow": null,
            "grid_area": null,
            "grid_auto_columns": null,
            "grid_auto_flow": null,
            "grid_auto_rows": null,
            "grid_column": null,
            "grid_gap": null,
            "grid_row": null,
            "grid_template_areas": null,
            "grid_template_columns": null,
            "grid_template_rows": null,
            "height": null,
            "justify_content": null,
            "justify_items": null,
            "left": null,
            "margin": null,
            "max_height": null,
            "max_width": null,
            "min_height": null,
            "min_width": null,
            "object_fit": null,
            "object_position": null,
            "order": null,
            "overflow": null,
            "overflow_x": null,
            "overflow_y": null,
            "padding": null,
            "right": null,
            "top": null,
            "visibility": null,
            "width": null
          }
        },
        "32df99a6d92a4034bc8b22b7df472754": {
          "model_module": "@jupyter-widgets/controls",
          "model_name": "DescriptionStyleModel",
          "model_module_version": "1.5.0",
          "state": {
            "_model_module": "@jupyter-widgets/controls",
            "_model_module_version": "1.5.0",
            "_model_name": "DescriptionStyleModel",
            "_view_count": null,
            "_view_module": "@jupyter-widgets/base",
            "_view_module_version": "1.2.0",
            "_view_name": "StyleView",
            "description_width": ""
          }
        },
        "d840c65011794dd495538aa6de8e5495": {
          "model_module": "@jupyter-widgets/controls",
          "model_name": "HBoxModel",
          "model_module_version": "1.5.0",
          "state": {
            "_dom_classes": [],
            "_model_module": "@jupyter-widgets/controls",
            "_model_module_version": "1.5.0",
            "_model_name": "HBoxModel",
            "_view_count": null,
            "_view_module": "@jupyter-widgets/controls",
            "_view_module_version": "1.5.0",
            "_view_name": "HBoxView",
            "box_style": "",
            "children": [
              "IPY_MODEL_e1f8d36be33740ab8fc5331a6bdd3023",
              "IPY_MODEL_9569b1f4875d4c7092442248bdc678a5",
              "IPY_MODEL_347f581a2ba14b4384f7c835e4ecc14e"
            ],
            "layout": "IPY_MODEL_9692cce149834b5eb6b9101c38201186"
          }
        },
        "e1f8d36be33740ab8fc5331a6bdd3023": {
          "model_module": "@jupyter-widgets/controls",
          "model_name": "HTMLModel",
          "model_module_version": "1.5.0",
          "state": {
            "_dom_classes": [],
            "_model_module": "@jupyter-widgets/controls",
            "_model_module_version": "1.5.0",
            "_model_name": "HTMLModel",
            "_view_count": null,
            "_view_module": "@jupyter-widgets/controls",
            "_view_module_version": "1.5.0",
            "_view_name": "HTMLView",
            "description": "",
            "description_tooltip": null,
            "layout": "IPY_MODEL_d0ce68f9bc8c41eda2084ca59aca46f8",
            "placeholder": "​",
            "style": "IPY_MODEL_f7fe7ba92f4e469d81073efbc5dea341",
            "value": "100%"
          }
        },
        "9569b1f4875d4c7092442248bdc678a5": {
          "model_module": "@jupyter-widgets/controls",
          "model_name": "FloatProgressModel",
          "model_module_version": "1.5.0",
          "state": {
            "_dom_classes": [],
            "_model_module": "@jupyter-widgets/controls",
            "_model_module_version": "1.5.0",
            "_model_name": "FloatProgressModel",
            "_view_count": null,
            "_view_module": "@jupyter-widgets/controls",
            "_view_module_version": "1.5.0",
            "_view_name": "ProgressView",
            "bar_style": "success",
            "description": "",
            "description_tooltip": null,
            "layout": "IPY_MODEL_7b803122ec544412ae615e987c483d0d",
            "max": 28881,
            "min": 0,
            "orientation": "horizontal",
            "style": "IPY_MODEL_aa6351894a5a423dbbaffaf8d0964522",
            "value": 28881
          }
        },
        "347f581a2ba14b4384f7c835e4ecc14e": {
          "model_module": "@jupyter-widgets/controls",
          "model_name": "HTMLModel",
          "model_module_version": "1.5.0",
          "state": {
            "_dom_classes": [],
            "_model_module": "@jupyter-widgets/controls",
            "_model_module_version": "1.5.0",
            "_model_name": "HTMLModel",
            "_view_count": null,
            "_view_module": "@jupyter-widgets/controls",
            "_view_module_version": "1.5.0",
            "_view_name": "HTMLView",
            "description": "",
            "description_tooltip": null,
            "layout": "IPY_MODEL_86ee35ddb21446b490cb4b5100c24478",
            "placeholder": "​",
            "style": "IPY_MODEL_b4cd6cd7fe1a46b59ad992d09443ae33",
            "value": " 28881/28881 [00:00&lt;00:00, 748111.40it/s]"
          }
        },
        "9692cce149834b5eb6b9101c38201186": {
          "model_module": "@jupyter-widgets/base",
          "model_name": "LayoutModel",
          "model_module_version": "1.2.0",
          "state": {
            "_model_module": "@jupyter-widgets/base",
            "_model_module_version": "1.2.0",
            "_model_name": "LayoutModel",
            "_view_count": null,
            "_view_module": "@jupyter-widgets/base",
            "_view_module_version": "1.2.0",
            "_view_name": "LayoutView",
            "align_content": null,
            "align_items": null,
            "align_self": null,
            "border": null,
            "bottom": null,
            "display": null,
            "flex": null,
            "flex_flow": null,
            "grid_area": null,
            "grid_auto_columns": null,
            "grid_auto_flow": null,
            "grid_auto_rows": null,
            "grid_column": null,
            "grid_gap": null,
            "grid_row": null,
            "grid_template_areas": null,
            "grid_template_columns": null,
            "grid_template_rows": null,
            "height": null,
            "justify_content": null,
            "justify_items": null,
            "left": null,
            "margin": null,
            "max_height": null,
            "max_width": null,
            "min_height": null,
            "min_width": null,
            "object_fit": null,
            "object_position": null,
            "order": null,
            "overflow": null,
            "overflow_x": null,
            "overflow_y": null,
            "padding": null,
            "right": null,
            "top": null,
            "visibility": null,
            "width": null
          }
        },
        "d0ce68f9bc8c41eda2084ca59aca46f8": {
          "model_module": "@jupyter-widgets/base",
          "model_name": "LayoutModel",
          "model_module_version": "1.2.0",
          "state": {
            "_model_module": "@jupyter-widgets/base",
            "_model_module_version": "1.2.0",
            "_model_name": "LayoutModel",
            "_view_count": null,
            "_view_module": "@jupyter-widgets/base",
            "_view_module_version": "1.2.0",
            "_view_name": "LayoutView",
            "align_content": null,
            "align_items": null,
            "align_self": null,
            "border": null,
            "bottom": null,
            "display": null,
            "flex": null,
            "flex_flow": null,
            "grid_area": null,
            "grid_auto_columns": null,
            "grid_auto_flow": null,
            "grid_auto_rows": null,
            "grid_column": null,
            "grid_gap": null,
            "grid_row": null,
            "grid_template_areas": null,
            "grid_template_columns": null,
            "grid_template_rows": null,
            "height": null,
            "justify_content": null,
            "justify_items": null,
            "left": null,
            "margin": null,
            "max_height": null,
            "max_width": null,
            "min_height": null,
            "min_width": null,
            "object_fit": null,
            "object_position": null,
            "order": null,
            "overflow": null,
            "overflow_x": null,
            "overflow_y": null,
            "padding": null,
            "right": null,
            "top": null,
            "visibility": null,
            "width": null
          }
        },
        "f7fe7ba92f4e469d81073efbc5dea341": {
          "model_module": "@jupyter-widgets/controls",
          "model_name": "DescriptionStyleModel",
          "model_module_version": "1.5.0",
          "state": {
            "_model_module": "@jupyter-widgets/controls",
            "_model_module_version": "1.5.0",
            "_model_name": "DescriptionStyleModel",
            "_view_count": null,
            "_view_module": "@jupyter-widgets/base",
            "_view_module_version": "1.2.0",
            "_view_name": "StyleView",
            "description_width": ""
          }
        },
        "7b803122ec544412ae615e987c483d0d": {
          "model_module": "@jupyter-widgets/base",
          "model_name": "LayoutModel",
          "model_module_version": "1.2.0",
          "state": {
            "_model_module": "@jupyter-widgets/base",
            "_model_module_version": "1.2.0",
            "_model_name": "LayoutModel",
            "_view_count": null,
            "_view_module": "@jupyter-widgets/base",
            "_view_module_version": "1.2.0",
            "_view_name": "LayoutView",
            "align_content": null,
            "align_items": null,
            "align_self": null,
            "border": null,
            "bottom": null,
            "display": null,
            "flex": null,
            "flex_flow": null,
            "grid_area": null,
            "grid_auto_columns": null,
            "grid_auto_flow": null,
            "grid_auto_rows": null,
            "grid_column": null,
            "grid_gap": null,
            "grid_row": null,
            "grid_template_areas": null,
            "grid_template_columns": null,
            "grid_template_rows": null,
            "height": null,
            "justify_content": null,
            "justify_items": null,
            "left": null,
            "margin": null,
            "max_height": null,
            "max_width": null,
            "min_height": null,
            "min_width": null,
            "object_fit": null,
            "object_position": null,
            "order": null,
            "overflow": null,
            "overflow_x": null,
            "overflow_y": null,
            "padding": null,
            "right": null,
            "top": null,
            "visibility": null,
            "width": null
          }
        },
        "aa6351894a5a423dbbaffaf8d0964522": {
          "model_module": "@jupyter-widgets/controls",
          "model_name": "ProgressStyleModel",
          "model_module_version": "1.5.0",
          "state": {
            "_model_module": "@jupyter-widgets/controls",
            "_model_module_version": "1.5.0",
            "_model_name": "ProgressStyleModel",
            "_view_count": null,
            "_view_module": "@jupyter-widgets/base",
            "_view_module_version": "1.2.0",
            "_view_name": "StyleView",
            "bar_color": null,
            "description_width": ""
          }
        },
        "86ee35ddb21446b490cb4b5100c24478": {
          "model_module": "@jupyter-widgets/base",
          "model_name": "LayoutModel",
          "model_module_version": "1.2.0",
          "state": {
            "_model_module": "@jupyter-widgets/base",
            "_model_module_version": "1.2.0",
            "_model_name": "LayoutModel",
            "_view_count": null,
            "_view_module": "@jupyter-widgets/base",
            "_view_module_version": "1.2.0",
            "_view_name": "LayoutView",
            "align_content": null,
            "align_items": null,
            "align_self": null,
            "border": null,
            "bottom": null,
            "display": null,
            "flex": null,
            "flex_flow": null,
            "grid_area": null,
            "grid_auto_columns": null,
            "grid_auto_flow": null,
            "grid_auto_rows": null,
            "grid_column": null,
            "grid_gap": null,
            "grid_row": null,
            "grid_template_areas": null,
            "grid_template_columns": null,
            "grid_template_rows": null,
            "height": null,
            "justify_content": null,
            "justify_items": null,
            "left": null,
            "margin": null,
            "max_height": null,
            "max_width": null,
            "min_height": null,
            "min_width": null,
            "object_fit": null,
            "object_position": null,
            "order": null,
            "overflow": null,
            "overflow_x": null,
            "overflow_y": null,
            "padding": null,
            "right": null,
            "top": null,
            "visibility": null,
            "width": null
          }
        },
        "b4cd6cd7fe1a46b59ad992d09443ae33": {
          "model_module": "@jupyter-widgets/controls",
          "model_name": "DescriptionStyleModel",
          "model_module_version": "1.5.0",
          "state": {
            "_model_module": "@jupyter-widgets/controls",
            "_model_module_version": "1.5.0",
            "_model_name": "DescriptionStyleModel",
            "_view_count": null,
            "_view_module": "@jupyter-widgets/base",
            "_view_module_version": "1.2.0",
            "_view_name": "StyleView",
            "description_width": ""
          }
        },
        "9b38da5bc9ba4b83a539c817dd036613": {
          "model_module": "@jupyter-widgets/controls",
          "model_name": "HBoxModel",
          "model_module_version": "1.5.0",
          "state": {
            "_dom_classes": [],
            "_model_module": "@jupyter-widgets/controls",
            "_model_module_version": "1.5.0",
            "_model_name": "HBoxModel",
            "_view_count": null,
            "_view_module": "@jupyter-widgets/controls",
            "_view_module_version": "1.5.0",
            "_view_name": "HBoxView",
            "box_style": "",
            "children": [
              "IPY_MODEL_5a23edd784ff4b53aa9cf7ae7466d3d1",
              "IPY_MODEL_8ef0c9372a924587b80abc476c64ee04",
              "IPY_MODEL_faa1514b103b4e96b17dbbbfd55c352e"
            ],
            "layout": "IPY_MODEL_a37a067949ed44fbb85980f861ce01b4"
          }
        },
        "5a23edd784ff4b53aa9cf7ae7466d3d1": {
          "model_module": "@jupyter-widgets/controls",
          "model_name": "HTMLModel",
          "model_module_version": "1.5.0",
          "state": {
            "_dom_classes": [],
            "_model_module": "@jupyter-widgets/controls",
            "_model_module_version": "1.5.0",
            "_model_name": "HTMLModel",
            "_view_count": null,
            "_view_module": "@jupyter-widgets/controls",
            "_view_module_version": "1.5.0",
            "_view_name": "HTMLView",
            "description": "",
            "description_tooltip": null,
            "layout": "IPY_MODEL_c6bb73840f4b48c98b0de1650078c766",
            "placeholder": "​",
            "style": "IPY_MODEL_dec489246d674501acf41982b3398e8c",
            "value": "100%"
          }
        },
        "8ef0c9372a924587b80abc476c64ee04": {
          "model_module": "@jupyter-widgets/controls",
          "model_name": "FloatProgressModel",
          "model_module_version": "1.5.0",
          "state": {
            "_dom_classes": [],
            "_model_module": "@jupyter-widgets/controls",
            "_model_module_version": "1.5.0",
            "_model_name": "FloatProgressModel",
            "_view_count": null,
            "_view_module": "@jupyter-widgets/controls",
            "_view_module_version": "1.5.0",
            "_view_name": "ProgressView",
            "bar_style": "success",
            "description": "",
            "description_tooltip": null,
            "layout": "IPY_MODEL_c73e3b8e02f34217a8bb408dcdcab9bf",
            "max": 1648877,
            "min": 0,
            "orientation": "horizontal",
            "style": "IPY_MODEL_3f7a20a1243043b1969c929e7fb3ad9d",
            "value": 1648877
          }
        },
        "faa1514b103b4e96b17dbbbfd55c352e": {
          "model_module": "@jupyter-widgets/controls",
          "model_name": "HTMLModel",
          "model_module_version": "1.5.0",
          "state": {
            "_dom_classes": [],
            "_model_module": "@jupyter-widgets/controls",
            "_model_module_version": "1.5.0",
            "_model_name": "HTMLModel",
            "_view_count": null,
            "_view_module": "@jupyter-widgets/controls",
            "_view_module_version": "1.5.0",
            "_view_name": "HTMLView",
            "description": "",
            "description_tooltip": null,
            "layout": "IPY_MODEL_cdd651701b7f4e87a19299ed5a38411f",
            "placeholder": "​",
            "style": "IPY_MODEL_a02a35eba278469cab07d3768a1da928",
            "value": " 1648877/1648877 [00:00&lt;00:00, 23175181.78it/s]"
          }
        },
        "a37a067949ed44fbb85980f861ce01b4": {
          "model_module": "@jupyter-widgets/base",
          "model_name": "LayoutModel",
          "model_module_version": "1.2.0",
          "state": {
            "_model_module": "@jupyter-widgets/base",
            "_model_module_version": "1.2.0",
            "_model_name": "LayoutModel",
            "_view_count": null,
            "_view_module": "@jupyter-widgets/base",
            "_view_module_version": "1.2.0",
            "_view_name": "LayoutView",
            "align_content": null,
            "align_items": null,
            "align_self": null,
            "border": null,
            "bottom": null,
            "display": null,
            "flex": null,
            "flex_flow": null,
            "grid_area": null,
            "grid_auto_columns": null,
            "grid_auto_flow": null,
            "grid_auto_rows": null,
            "grid_column": null,
            "grid_gap": null,
            "grid_row": null,
            "grid_template_areas": null,
            "grid_template_columns": null,
            "grid_template_rows": null,
            "height": null,
            "justify_content": null,
            "justify_items": null,
            "left": null,
            "margin": null,
            "max_height": null,
            "max_width": null,
            "min_height": null,
            "min_width": null,
            "object_fit": null,
            "object_position": null,
            "order": null,
            "overflow": null,
            "overflow_x": null,
            "overflow_y": null,
            "padding": null,
            "right": null,
            "top": null,
            "visibility": null,
            "width": null
          }
        },
        "c6bb73840f4b48c98b0de1650078c766": {
          "model_module": "@jupyter-widgets/base",
          "model_name": "LayoutModel",
          "model_module_version": "1.2.0",
          "state": {
            "_model_module": "@jupyter-widgets/base",
            "_model_module_version": "1.2.0",
            "_model_name": "LayoutModel",
            "_view_count": null,
            "_view_module": "@jupyter-widgets/base",
            "_view_module_version": "1.2.0",
            "_view_name": "LayoutView",
            "align_content": null,
            "align_items": null,
            "align_self": null,
            "border": null,
            "bottom": null,
            "display": null,
            "flex": null,
            "flex_flow": null,
            "grid_area": null,
            "grid_auto_columns": null,
            "grid_auto_flow": null,
            "grid_auto_rows": null,
            "grid_column": null,
            "grid_gap": null,
            "grid_row": null,
            "grid_template_areas": null,
            "grid_template_columns": null,
            "grid_template_rows": null,
            "height": null,
            "justify_content": null,
            "justify_items": null,
            "left": null,
            "margin": null,
            "max_height": null,
            "max_width": null,
            "min_height": null,
            "min_width": null,
            "object_fit": null,
            "object_position": null,
            "order": null,
            "overflow": null,
            "overflow_x": null,
            "overflow_y": null,
            "padding": null,
            "right": null,
            "top": null,
            "visibility": null,
            "width": null
          }
        },
        "dec489246d674501acf41982b3398e8c": {
          "model_module": "@jupyter-widgets/controls",
          "model_name": "DescriptionStyleModel",
          "model_module_version": "1.5.0",
          "state": {
            "_model_module": "@jupyter-widgets/controls",
            "_model_module_version": "1.5.0",
            "_model_name": "DescriptionStyleModel",
            "_view_count": null,
            "_view_module": "@jupyter-widgets/base",
            "_view_module_version": "1.2.0",
            "_view_name": "StyleView",
            "description_width": ""
          }
        },
        "c73e3b8e02f34217a8bb408dcdcab9bf": {
          "model_module": "@jupyter-widgets/base",
          "model_name": "LayoutModel",
          "model_module_version": "1.2.0",
          "state": {
            "_model_module": "@jupyter-widgets/base",
            "_model_module_version": "1.2.0",
            "_model_name": "LayoutModel",
            "_view_count": null,
            "_view_module": "@jupyter-widgets/base",
            "_view_module_version": "1.2.0",
            "_view_name": "LayoutView",
            "align_content": null,
            "align_items": null,
            "align_self": null,
            "border": null,
            "bottom": null,
            "display": null,
            "flex": null,
            "flex_flow": null,
            "grid_area": null,
            "grid_auto_columns": null,
            "grid_auto_flow": null,
            "grid_auto_rows": null,
            "grid_column": null,
            "grid_gap": null,
            "grid_row": null,
            "grid_template_areas": null,
            "grid_template_columns": null,
            "grid_template_rows": null,
            "height": null,
            "justify_content": null,
            "justify_items": null,
            "left": null,
            "margin": null,
            "max_height": null,
            "max_width": null,
            "min_height": null,
            "min_width": null,
            "object_fit": null,
            "object_position": null,
            "order": null,
            "overflow": null,
            "overflow_x": null,
            "overflow_y": null,
            "padding": null,
            "right": null,
            "top": null,
            "visibility": null,
            "width": null
          }
        },
        "3f7a20a1243043b1969c929e7fb3ad9d": {
          "model_module": "@jupyter-widgets/controls",
          "model_name": "ProgressStyleModel",
          "model_module_version": "1.5.0",
          "state": {
            "_model_module": "@jupyter-widgets/controls",
            "_model_module_version": "1.5.0",
            "_model_name": "ProgressStyleModel",
            "_view_count": null,
            "_view_module": "@jupyter-widgets/base",
            "_view_module_version": "1.2.0",
            "_view_name": "StyleView",
            "bar_color": null,
            "description_width": ""
          }
        },
        "cdd651701b7f4e87a19299ed5a38411f": {
          "model_module": "@jupyter-widgets/base",
          "model_name": "LayoutModel",
          "model_module_version": "1.2.0",
          "state": {
            "_model_module": "@jupyter-widgets/base",
            "_model_module_version": "1.2.0",
            "_model_name": "LayoutModel",
            "_view_count": null,
            "_view_module": "@jupyter-widgets/base",
            "_view_module_version": "1.2.0",
            "_view_name": "LayoutView",
            "align_content": null,
            "align_items": null,
            "align_self": null,
            "border": null,
            "bottom": null,
            "display": null,
            "flex": null,
            "flex_flow": null,
            "grid_area": null,
            "grid_auto_columns": null,
            "grid_auto_flow": null,
            "grid_auto_rows": null,
            "grid_column": null,
            "grid_gap": null,
            "grid_row": null,
            "grid_template_areas": null,
            "grid_template_columns": null,
            "grid_template_rows": null,
            "height": null,
            "justify_content": null,
            "justify_items": null,
            "left": null,
            "margin": null,
            "max_height": null,
            "max_width": null,
            "min_height": null,
            "min_width": null,
            "object_fit": null,
            "object_position": null,
            "order": null,
            "overflow": null,
            "overflow_x": null,
            "overflow_y": null,
            "padding": null,
            "right": null,
            "top": null,
            "visibility": null,
            "width": null
          }
        },
        "a02a35eba278469cab07d3768a1da928": {
          "model_module": "@jupyter-widgets/controls",
          "model_name": "DescriptionStyleModel",
          "model_module_version": "1.5.0",
          "state": {
            "_model_module": "@jupyter-widgets/controls",
            "_model_module_version": "1.5.0",
            "_model_name": "DescriptionStyleModel",
            "_view_count": null,
            "_view_module": "@jupyter-widgets/base",
            "_view_module_version": "1.2.0",
            "_view_name": "StyleView",
            "description_width": ""
          }
        },
        "4cad5011ba2346d393404ace32b6f570": {
          "model_module": "@jupyter-widgets/controls",
          "model_name": "HBoxModel",
          "model_module_version": "1.5.0",
          "state": {
            "_dom_classes": [],
            "_model_module": "@jupyter-widgets/controls",
            "_model_module_version": "1.5.0",
            "_model_name": "HBoxModel",
            "_view_count": null,
            "_view_module": "@jupyter-widgets/controls",
            "_view_module_version": "1.5.0",
            "_view_name": "HBoxView",
            "box_style": "",
            "children": [
              "IPY_MODEL_3bcfaef6ca13414badef70104d5ab804",
              "IPY_MODEL_dd36183a102d46c09686860417b2c8fd",
              "IPY_MODEL_151d19bb505e46dcbd6ac042a0016d5b"
            ],
            "layout": "IPY_MODEL_0fafd41590544dfea9b87833c8d81ce9"
          }
        },
        "3bcfaef6ca13414badef70104d5ab804": {
          "model_module": "@jupyter-widgets/controls",
          "model_name": "HTMLModel",
          "model_module_version": "1.5.0",
          "state": {
            "_dom_classes": [],
            "_model_module": "@jupyter-widgets/controls",
            "_model_module_version": "1.5.0",
            "_model_name": "HTMLModel",
            "_view_count": null,
            "_view_module": "@jupyter-widgets/controls",
            "_view_module_version": "1.5.0",
            "_view_name": "HTMLView",
            "description": "",
            "description_tooltip": null,
            "layout": "IPY_MODEL_e269c332254f4411b2c9866cab966d86",
            "placeholder": "​",
            "style": "IPY_MODEL_859824d44f23445d86416afedfc5dfaf",
            "value": "100%"
          }
        },
        "dd36183a102d46c09686860417b2c8fd": {
          "model_module": "@jupyter-widgets/controls",
          "model_name": "FloatProgressModel",
          "model_module_version": "1.5.0",
          "state": {
            "_dom_classes": [],
            "_model_module": "@jupyter-widgets/controls",
            "_model_module_version": "1.5.0",
            "_model_name": "FloatProgressModel",
            "_view_count": null,
            "_view_module": "@jupyter-widgets/controls",
            "_view_module_version": "1.5.0",
            "_view_name": "ProgressView",
            "bar_style": "success",
            "description": "",
            "description_tooltip": null,
            "layout": "IPY_MODEL_fa5380cfdc7e4dbebd0ced525d58f348",
            "max": 4542,
            "min": 0,
            "orientation": "horizontal",
            "style": "IPY_MODEL_a4820d86d8d94357ad76a8ef3cbb91bc",
            "value": 4542
          }
        },
        "151d19bb505e46dcbd6ac042a0016d5b": {
          "model_module": "@jupyter-widgets/controls",
          "model_name": "HTMLModel",
          "model_module_version": "1.5.0",
          "state": {
            "_dom_classes": [],
            "_model_module": "@jupyter-widgets/controls",
            "_model_module_version": "1.5.0",
            "_model_name": "HTMLModel",
            "_view_count": null,
            "_view_module": "@jupyter-widgets/controls",
            "_view_module_version": "1.5.0",
            "_view_name": "HTMLView",
            "description": "",
            "description_tooltip": null,
            "layout": "IPY_MODEL_6f31ae4c4ada4abc9f4a483f060f694b",
            "placeholder": "​",
            "style": "IPY_MODEL_2abd9c88047940738edd4f5d7e2022cf",
            "value": " 4542/4542 [00:00&lt;00:00, 174871.75it/s]"
          }
        },
        "0fafd41590544dfea9b87833c8d81ce9": {
          "model_module": "@jupyter-widgets/base",
          "model_name": "LayoutModel",
          "model_module_version": "1.2.0",
          "state": {
            "_model_module": "@jupyter-widgets/base",
            "_model_module_version": "1.2.0",
            "_model_name": "LayoutModel",
            "_view_count": null,
            "_view_module": "@jupyter-widgets/base",
            "_view_module_version": "1.2.0",
            "_view_name": "LayoutView",
            "align_content": null,
            "align_items": null,
            "align_self": null,
            "border": null,
            "bottom": null,
            "display": null,
            "flex": null,
            "flex_flow": null,
            "grid_area": null,
            "grid_auto_columns": null,
            "grid_auto_flow": null,
            "grid_auto_rows": null,
            "grid_column": null,
            "grid_gap": null,
            "grid_row": null,
            "grid_template_areas": null,
            "grid_template_columns": null,
            "grid_template_rows": null,
            "height": null,
            "justify_content": null,
            "justify_items": null,
            "left": null,
            "margin": null,
            "max_height": null,
            "max_width": null,
            "min_height": null,
            "min_width": null,
            "object_fit": null,
            "object_position": null,
            "order": null,
            "overflow": null,
            "overflow_x": null,
            "overflow_y": null,
            "padding": null,
            "right": null,
            "top": null,
            "visibility": null,
            "width": null
          }
        },
        "e269c332254f4411b2c9866cab966d86": {
          "model_module": "@jupyter-widgets/base",
          "model_name": "LayoutModel",
          "model_module_version": "1.2.0",
          "state": {
            "_model_module": "@jupyter-widgets/base",
            "_model_module_version": "1.2.0",
            "_model_name": "LayoutModel",
            "_view_count": null,
            "_view_module": "@jupyter-widgets/base",
            "_view_module_version": "1.2.0",
            "_view_name": "LayoutView",
            "align_content": null,
            "align_items": null,
            "align_self": null,
            "border": null,
            "bottom": null,
            "display": null,
            "flex": null,
            "flex_flow": null,
            "grid_area": null,
            "grid_auto_columns": null,
            "grid_auto_flow": null,
            "grid_auto_rows": null,
            "grid_column": null,
            "grid_gap": null,
            "grid_row": null,
            "grid_template_areas": null,
            "grid_template_columns": null,
            "grid_template_rows": null,
            "height": null,
            "justify_content": null,
            "justify_items": null,
            "left": null,
            "margin": null,
            "max_height": null,
            "max_width": null,
            "min_height": null,
            "min_width": null,
            "object_fit": null,
            "object_position": null,
            "order": null,
            "overflow": null,
            "overflow_x": null,
            "overflow_y": null,
            "padding": null,
            "right": null,
            "top": null,
            "visibility": null,
            "width": null
          }
        },
        "859824d44f23445d86416afedfc5dfaf": {
          "model_module": "@jupyter-widgets/controls",
          "model_name": "DescriptionStyleModel",
          "model_module_version": "1.5.0",
          "state": {
            "_model_module": "@jupyter-widgets/controls",
            "_model_module_version": "1.5.0",
            "_model_name": "DescriptionStyleModel",
            "_view_count": null,
            "_view_module": "@jupyter-widgets/base",
            "_view_module_version": "1.2.0",
            "_view_name": "StyleView",
            "description_width": ""
          }
        },
        "fa5380cfdc7e4dbebd0ced525d58f348": {
          "model_module": "@jupyter-widgets/base",
          "model_name": "LayoutModel",
          "model_module_version": "1.2.0",
          "state": {
            "_model_module": "@jupyter-widgets/base",
            "_model_module_version": "1.2.0",
            "_model_name": "LayoutModel",
            "_view_count": null,
            "_view_module": "@jupyter-widgets/base",
            "_view_module_version": "1.2.0",
            "_view_name": "LayoutView",
            "align_content": null,
            "align_items": null,
            "align_self": null,
            "border": null,
            "bottom": null,
            "display": null,
            "flex": null,
            "flex_flow": null,
            "grid_area": null,
            "grid_auto_columns": null,
            "grid_auto_flow": null,
            "grid_auto_rows": null,
            "grid_column": null,
            "grid_gap": null,
            "grid_row": null,
            "grid_template_areas": null,
            "grid_template_columns": null,
            "grid_template_rows": null,
            "height": null,
            "justify_content": null,
            "justify_items": null,
            "left": null,
            "margin": null,
            "max_height": null,
            "max_width": null,
            "min_height": null,
            "min_width": null,
            "object_fit": null,
            "object_position": null,
            "order": null,
            "overflow": null,
            "overflow_x": null,
            "overflow_y": null,
            "padding": null,
            "right": null,
            "top": null,
            "visibility": null,
            "width": null
          }
        },
        "a4820d86d8d94357ad76a8ef3cbb91bc": {
          "model_module": "@jupyter-widgets/controls",
          "model_name": "ProgressStyleModel",
          "model_module_version": "1.5.0",
          "state": {
            "_model_module": "@jupyter-widgets/controls",
            "_model_module_version": "1.5.0",
            "_model_name": "ProgressStyleModel",
            "_view_count": null,
            "_view_module": "@jupyter-widgets/base",
            "_view_module_version": "1.2.0",
            "_view_name": "StyleView",
            "bar_color": null,
            "description_width": ""
          }
        },
        "6f31ae4c4ada4abc9f4a483f060f694b": {
          "model_module": "@jupyter-widgets/base",
          "model_name": "LayoutModel",
          "model_module_version": "1.2.0",
          "state": {
            "_model_module": "@jupyter-widgets/base",
            "_model_module_version": "1.2.0",
            "_model_name": "LayoutModel",
            "_view_count": null,
            "_view_module": "@jupyter-widgets/base",
            "_view_module_version": "1.2.0",
            "_view_name": "LayoutView",
            "align_content": null,
            "align_items": null,
            "align_self": null,
            "border": null,
            "bottom": null,
            "display": null,
            "flex": null,
            "flex_flow": null,
            "grid_area": null,
            "grid_auto_columns": null,
            "grid_auto_flow": null,
            "grid_auto_rows": null,
            "grid_column": null,
            "grid_gap": null,
            "grid_row": null,
            "grid_template_areas": null,
            "grid_template_columns": null,
            "grid_template_rows": null,
            "height": null,
            "justify_content": null,
            "justify_items": null,
            "left": null,
            "margin": null,
            "max_height": null,
            "max_width": null,
            "min_height": null,
            "min_width": null,
            "object_fit": null,
            "object_position": null,
            "order": null,
            "overflow": null,
            "overflow_x": null,
            "overflow_y": null,
            "padding": null,
            "right": null,
            "top": null,
            "visibility": null,
            "width": null
          }
        },
        "2abd9c88047940738edd4f5d7e2022cf": {
          "model_module": "@jupyter-widgets/controls",
          "model_name": "DescriptionStyleModel",
          "model_module_version": "1.5.0",
          "state": {
            "_model_module": "@jupyter-widgets/controls",
            "_model_module_version": "1.5.0",
            "_model_name": "DescriptionStyleModel",
            "_view_count": null,
            "_view_module": "@jupyter-widgets/base",
            "_view_module_version": "1.2.0",
            "_view_name": "StyleView",
            "description_width": ""
          }
        }
      }
    }
  },
  "cells": [
    {
      "cell_type": "markdown",
      "metadata": {
        "id": "view-in-github",
        "colab_type": "text"
      },
      "source": [
        "<a href=\"https://colab.research.google.com/github/SreeramNithin/UNP-Projects/blob/main/Image_Classification.ipynb\" target=\"_parent\"><img src=\"https://colab.research.google.com/assets/colab-badge.svg\" alt=\"Open In Colab\"/></a>"
      ]
    },
    {
      "cell_type": "code",
      "execution_count": null,
      "metadata": {
        "id": "bPF-TexlIbxh"
      },
      "outputs": [],
      "source": [
        "import torch\n",
        "import torchvision\n",
        "import numpy as np\n",
        "import pandas as pd\n",
        "import tensorflow as tf\n",
        "import matplotlib.pyplot as plt\n"
      ]
    },
    {
      "cell_type": "code",
      "source": [
        "from google.colab import drive\n",
        "drive.mount('/content/drive')"
      ],
      "metadata": {
        "colab": {
          "base_uri": "https://localhost:8080/"
        },
        "id": "FmUTmOdYJVDU",
        "outputId": "9339f53e-4c04-462a-acaa-6f845dc217d9"
      },
      "execution_count": null,
      "outputs": [
        {
          "output_type": "stream",
          "name": "stdout",
          "text": [
            "Mounted at /content/drive\n"
          ]
        }
      ]
    },
    {
      "cell_type": "code",
      "source": [
        "data = np.load('/content/drive/MyDrive/CIfar/cifar-10.zip')"
      ],
      "metadata": {
        "id": "EualGYUbJ7It"
      },
      "execution_count": null,
      "outputs": []
    },
    {
      "cell_type": "code",
      "source": [
        "data.files"
      ],
      "metadata": {
        "colab": {
          "base_uri": "https://localhost:8080/"
        },
        "id": "lwbABXArKTP_",
        "outputId": "c140a693-325f-42e0-f7d5-0bcbd1c83888"
      },
      "execution_count": null,
      "outputs": [
        {
          "output_type": "execute_result",
          "data": {
            "text/plain": [
              "['sampleSubmission.csv', 'test.7z', 'train.7z', 'trainLabels.csv']"
            ]
          },
          "metadata": {},
          "execution_count": 6
        }
      ]
    },
    {
      "cell_type": "code",
      "source": [
        "train_images = data['train.7z']\n",
        "test_images = data['test.7z']"
      ],
      "metadata": {
        "id": "JXbX4sH2KXaW"
      },
      "execution_count": null,
      "outputs": []
    },
    {
      "cell_type": "code",
      "source": [
        "n_epochs = 3\n",
        "batch_size_train = 64\n",
        "batch_size_test = 1000\n",
        "learning_rate = 0.01\n",
        "momentum = 0.5\n",
        "log_interval = 10\n",
        "\n",
        "random_seed = 28\n",
        "torch.backends.cudnn.enabled = False\n",
        "torch.manual_seed(random_seed)"
      ],
      "metadata": {
        "colab": {
          "base_uri": "https://localhost:8080/"
        },
        "id": "dCu1-g0ZKk4_",
        "outputId": "e091ffaf-578b-4ce9-d74c-53b306b2a7a1"
      },
      "execution_count": null,
      "outputs": [
        {
          "output_type": "execute_result",
          "data": {
            "text/plain": [
              "<torch._C.Generator at 0x7f68679e7d10>"
            ]
          },
          "metadata": {},
          "execution_count": 8
        }
      ]
    },
    {
      "cell_type": "code",
      "source": [
        "train_loader = torch.utils.data.DataLoader(\n",
        "  torchvision.datasets.MNIST('/files/', train=True, download=True,\n",
        "                             transform=torchvision.transforms.Compose([\n",
        "                               torchvision.transforms.ToTensor(),\n",
        "                               torchvision.transforms.Normalize(\n",
        "                                 (0.1307,), (0.3081,))\n",
        "                             ])),\n",
        "  batch_size=batch_size_train, shuffle=True)\n",
        "\n",
        "test_loader = torch.utils.data.DataLoader(\n",
        "  torchvision.datasets.MNIST('/files/', train=False, download=True,\n",
        "                             transform=torchvision.transforms.Compose([\n",
        "                               torchvision.transforms.ToTensor(),\n",
        "                               torchvision.transforms.Normalize(\n",
        "                                 (0.1307,), (0.3081,))\n",
        "                             ])),\n",
        "  batch_size=batch_size_test, shuffle=True)"
      ],
      "metadata": {
        "colab": {
          "base_uri": "https://localhost:8080/",
          "height": 423,
          "referenced_widgets": [
            "0bd47b20ba49411cac68fd04abe248b2",
            "5722a587e2f3428dab3279c18c337e7e",
            "283ce4e694ec42f3bea3d155d5201dc3",
            "3f59ad117168425ea3d98107820fc962",
            "1d3a78291a2a48efa4bd26893c5a23b7",
            "81acc247dd87416cb3bfa9e8acef5c56",
            "77d050905248446b87c3fd578df4faa7",
            "81c86445f5544a7cbcc706b5223ef671",
            "954ef5d626724c38bd9ac5bfa8b7b809",
            "a3c3a4f6edc64d73a0e8ef1748fc132a",
            "32df99a6d92a4034bc8b22b7df472754",
            "d840c65011794dd495538aa6de8e5495",
            "e1f8d36be33740ab8fc5331a6bdd3023",
            "9569b1f4875d4c7092442248bdc678a5",
            "347f581a2ba14b4384f7c835e4ecc14e",
            "9692cce149834b5eb6b9101c38201186",
            "d0ce68f9bc8c41eda2084ca59aca46f8",
            "f7fe7ba92f4e469d81073efbc5dea341",
            "7b803122ec544412ae615e987c483d0d",
            "aa6351894a5a423dbbaffaf8d0964522",
            "86ee35ddb21446b490cb4b5100c24478",
            "b4cd6cd7fe1a46b59ad992d09443ae33",
            "9b38da5bc9ba4b83a539c817dd036613",
            "5a23edd784ff4b53aa9cf7ae7466d3d1",
            "8ef0c9372a924587b80abc476c64ee04",
            "faa1514b103b4e96b17dbbbfd55c352e",
            "a37a067949ed44fbb85980f861ce01b4",
            "c6bb73840f4b48c98b0de1650078c766",
            "dec489246d674501acf41982b3398e8c",
            "c73e3b8e02f34217a8bb408dcdcab9bf",
            "3f7a20a1243043b1969c929e7fb3ad9d",
            "cdd651701b7f4e87a19299ed5a38411f",
            "a02a35eba278469cab07d3768a1da928",
            "4cad5011ba2346d393404ace32b6f570",
            "3bcfaef6ca13414badef70104d5ab804",
            "dd36183a102d46c09686860417b2c8fd",
            "151d19bb505e46dcbd6ac042a0016d5b",
            "0fafd41590544dfea9b87833c8d81ce9",
            "e269c332254f4411b2c9866cab966d86",
            "859824d44f23445d86416afedfc5dfaf",
            "fa5380cfdc7e4dbebd0ced525d58f348",
            "a4820d86d8d94357ad76a8ef3cbb91bc",
            "6f31ae4c4ada4abc9f4a483f060f694b",
            "2abd9c88047940738edd4f5d7e2022cf"
          ]
        },
        "id": "wCZovu_bKvIe",
        "outputId": "2a9689dd-5a3f-4ebf-84f0-e118c51c6313"
      },
      "execution_count": null,
      "outputs": [
        {
          "output_type": "stream",
          "name": "stdout",
          "text": [
            "Downloading http://yann.lecun.com/exdb/mnist/train-images-idx3-ubyte.gz\n",
            "Downloading http://yann.lecun.com/exdb/mnist/train-images-idx3-ubyte.gz to /files/MNIST/raw/train-images-idx3-ubyte.gz\n"
          ]
        },
        {
          "output_type": "display_data",
          "data": {
            "text/plain": [
              "  0%|          | 0/9912422 [00:00<?, ?it/s]"
            ],
            "application/vnd.jupyter.widget-view+json": {
              "version_major": 2,
              "version_minor": 0,
              "model_id": "0bd47b20ba49411cac68fd04abe248b2"
            }
          },
          "metadata": {}
        },
        {
          "output_type": "stream",
          "name": "stdout",
          "text": [
            "Extracting /files/MNIST/raw/train-images-idx3-ubyte.gz to /files/MNIST/raw\n",
            "\n",
            "Downloading http://yann.lecun.com/exdb/mnist/train-labels-idx1-ubyte.gz\n",
            "Downloading http://yann.lecun.com/exdb/mnist/train-labels-idx1-ubyte.gz to /files/MNIST/raw/train-labels-idx1-ubyte.gz\n"
          ]
        },
        {
          "output_type": "display_data",
          "data": {
            "text/plain": [
              "  0%|          | 0/28881 [00:00<?, ?it/s]"
            ],
            "application/vnd.jupyter.widget-view+json": {
              "version_major": 2,
              "version_minor": 0,
              "model_id": "d840c65011794dd495538aa6de8e5495"
            }
          },
          "metadata": {}
        },
        {
          "output_type": "stream",
          "name": "stdout",
          "text": [
            "Extracting /files/MNIST/raw/train-labels-idx1-ubyte.gz to /files/MNIST/raw\n",
            "\n",
            "Downloading http://yann.lecun.com/exdb/mnist/t10k-images-idx3-ubyte.gz\n",
            "Downloading http://yann.lecun.com/exdb/mnist/t10k-images-idx3-ubyte.gz to /files/MNIST/raw/t10k-images-idx3-ubyte.gz\n"
          ]
        },
        {
          "output_type": "display_data",
          "data": {
            "text/plain": [
              "  0%|          | 0/1648877 [00:00<?, ?it/s]"
            ],
            "application/vnd.jupyter.widget-view+json": {
              "version_major": 2,
              "version_minor": 0,
              "model_id": "9b38da5bc9ba4b83a539c817dd036613"
            }
          },
          "metadata": {}
        },
        {
          "output_type": "stream",
          "name": "stdout",
          "text": [
            "Extracting /files/MNIST/raw/t10k-images-idx3-ubyte.gz to /files/MNIST/raw\n",
            "\n",
            "Downloading http://yann.lecun.com/exdb/mnist/t10k-labels-idx1-ubyte.gz\n",
            "Downloading http://yann.lecun.com/exdb/mnist/t10k-labels-idx1-ubyte.gz to /files/MNIST/raw/t10k-labels-idx1-ubyte.gz\n"
          ]
        },
        {
          "output_type": "display_data",
          "data": {
            "text/plain": [
              "  0%|          | 0/4542 [00:00<?, ?it/s]"
            ],
            "application/vnd.jupyter.widget-view+json": {
              "version_major": 2,
              "version_minor": 0,
              "model_id": "4cad5011ba2346d393404ace32b6f570"
            }
          },
          "metadata": {}
        },
        {
          "output_type": "stream",
          "name": "stdout",
          "text": [
            "Extracting /files/MNIST/raw/t10k-labels-idx1-ubyte.gz to /files/MNIST/raw\n",
            "\n"
          ]
        }
      ]
    },
    {
      "cell_type": "code",
      "source": [
        "from sklearn.model_selection import train_test_split"
      ],
      "metadata": {
        "id": "7MAmsKx9Oyze"
      },
      "execution_count": null,
      "outputs": []
    },
    {
      "cell_type": "code",
      "source": [
        "keras=tf.keras\n",
        "from keras.datasets import cifar10"
      ],
      "metadata": {
        "id": "av6uX1T7PIEs"
      },
      "execution_count": null,
      "outputs": []
    },
    {
      "cell_type": "code",
      "source": [
        "(trainX, trainY),(testX , testY) = cifar10.load_data()"
      ],
      "metadata": {
        "colab": {
          "base_uri": "https://localhost:8080/"
        },
        "id": "JLNwd0Z-Ontq",
        "outputId": "3af8818b-7067-463d-c1a2-0816e6436e33"
      },
      "execution_count": null,
      "outputs": [
        {
          "output_type": "stream",
          "name": "stdout",
          "text": [
            "Downloading data from https://www.cs.toronto.edu/~kriz/cifar-10-python.tar.gz\n",
            "170498071/170498071 [==============================] - 4s 0us/step\n"
          ]
        }
      ]
    },
    {
      "cell_type": "code",
      "source": [
        "print('Train: X=',trainX.shape)\n",
        "print('Test: X=',testX.shape)"
      ],
      "metadata": {
        "colab": {
          "base_uri": "https://localhost:8080/"
        },
        "id": "MEJrym7kPyit",
        "outputId": "0ca84282-fdad-49d9-9f99-37d4a8ad7169"
      },
      "execution_count": null,
      "outputs": [
        {
          "output_type": "stream",
          "name": "stdout",
          "text": [
            "Train: X= (50000, 32, 32, 3)\n",
            "Test: X= (10000, 32, 32, 3)\n"
          ]
        }
      ]
    },
    {
      "cell_type": "code",
      "source": [
        "for i in range(1,25):\n",
        "  plt.subplot(5,6,i)\n",
        "  plt.imshow(trainX[i], cmap=plt.get_cmap('gray'))\n",
        "plt.show"
      ],
      "metadata": {
        "colab": {
          "base_uri": "https://localhost:8080/",
          "height": 241
        },
        "id": "t_7XZ_G7LfW1",
        "outputId": "43aec4f1-ab17-4516-82d8-b9c0f6bc9968"
      },
      "execution_count": null,
      "outputs": [
        {
          "output_type": "execute_result",
          "data": {
            "text/plain": [
              "<function matplotlib.pyplot.show(*args, **kw)>"
            ]
          },
          "metadata": {},
          "execution_count": 23
        },
        {
          "output_type": "display_data",
          "data": {
            "text/plain": [
              "<Figure size 432x288 with 24 Axes>"
            ],
            "image/png": "[encoded data removed]"
          },
          "metadata": {
            "needs_background": "light"
          }
        }
      ]
    },
    {
      "cell_type": "code",
      "source": [
        "for i in range(1,25):\n",
        "  plt.subplot(5,6,i)\n",
        "  plt.imshow(testX[i], cmap=plt.get_cmap('gray'))\n",
        "plt.show"
      ],
      "metadata": {
        "colab": {
          "base_uri": "https://localhost:8080/",
          "height": 241
        },
        "id": "q3Yf5jSqQTE6",
        "outputId": "b6605376-a6af-4205-afb3-7c7762649d08"
      },
      "execution_count": null,
      "outputs": [
        {
          "output_type": "execute_result",
          "data": {
            "text/plain": [
              "<function matplotlib.pyplot.show(*args, **kw)>"
            ]
          },
          "metadata": {},
          "execution_count": 24
        },
        {
          "output_type": "display_data",
          "data": {
            "text/plain": [
              "<Figure size 432x288 with 24 Axes>"
            ],
            "image/png": "[encoded data removed]"
          },
          "metadata": {
            "needs_background": "light"
          }
        }
      ]
    },
    {
      "cell_type": "code",
      "source": [
        "import torch.nn as nn\n",
        "import torch.nn.functional as F\n",
        "import torch.optim as optim"
      ],
      "metadata": {
        "id": "zPu31MzdQhE7"
      },
      "execution_count": null,
      "outputs": []
    },
    {
      "cell_type": "code",
      "source": [
        "class Net(nn.Module):\n",
        "    def __init__(self):\n",
        "        super(Net, self).__init__()\n",
        "        self.conv1 = nn.Conv2d(1, 10, kernel_size=5)\n",
        "        self.conv2 = nn.Conv2d(10, 20, kernel_size=5)\n",
        "        self.conv2_drop = nn.Dropout2d()\n",
        "        self.fc1 = nn.Linear(320, 50)\n",
        "        self.fc2 = nn.Linear(50, 10)\n",
        "\n",
        "    def forward(self, x):\n",
        "        x = F.relu(F.max_pool2d(self.conv1(x), 2))\n",
        "        x = F.relu(F.max_pool2d(self.conv2_drop(self.conv2(x)), 2))\n",
        "        x = x.view(-1, 320)\n",
        "        x = F.relu(self.fc1(x))\n",
        "        x = F.dropout(x, training=self.training)\n",
        "        x = self.fc2(x)\n",
        "        return F.log_softmax(x)"
      ],
      "metadata": {
        "id": "pSGtbdqMQldx"
      },
      "execution_count": null,
      "outputs": []
    },
    {
      "cell_type": "code",
      "source": [
        "network = Net()\n",
        "optimizer = optim.SGD(network.parameters(), lr=learning_rate,\n",
        "                      momentum=momentum)"
      ],
      "metadata": {
        "id": "knU3mLpeQpPz"
      },
      "execution_count": null,
      "outputs": []
    },
    {
      "cell_type": "code",
      "source": [
        "train_losses = []\n",
        "train_counter = []\n",
        "test_losses = []\n",
        "test_counter = [i*len(train_loader.dataset) for i in range(n_epochs + 1)]"
      ],
      "metadata": {
        "id": "v-X2F_wKQs_u"
      },
      "execution_count": null,
      "outputs": []
    },
    {
      "cell_type": "code",
      "source": [
        "def train(epoch):\n",
        "  network.train()\n",
        "  for batch_idx, (data, target) in enumerate(train_loader):\n",
        "    optimizer.zero_grad()\n",
        "    output = network(data)\n",
        "    loss = F.nll_loss(output, target)\n",
        "    loss.backward()\n",
        "    optimizer.step()\n",
        "    if batch_idx % log_interval == 0:\n",
        "      print('Train Epoch: {} [{}/{} ({:.0f}%)]\\tLoss: {:.6f}'.format(\n",
        "        epoch, batch_idx * len(data), len(train_loader.dataset),\n",
        "        100. * batch_idx / len(train_loader), loss.item()))\n",
        "      train_losses.append(loss.item())\n",
        "      train_counter.append(\n",
        "        (batch_idx*64) + ((epoch-1)*len(train_loader.dataset)))\n",
        "      torch.save(network.state_dict(), 'model.pth')\n",
        "      torch.save(optimizer.state_dict(), 'optimizer.pth')"
      ],
      "metadata": {
        "id": "CLvEdtVhQxCy"
      },
      "execution_count": null,
      "outputs": []
    },
    {
      "cell_type": "code",
      "source": [
        "def test():\n",
        "  network.eval()\n",
        "  test_loss = 0\n",
        "  correct = 0\n",
        "  with torch.no_grad():\n",
        "    for data, target in test_loader:\n",
        "      output = network(data)\n",
        "      test_loss += F.nll_loss(output, target, size_average=False).item()\n",
        "      pred = output.data.max(1, keepdim=True)[1]\n",
        "      correct += pred.eq(target.data.view_as(pred)).sum()\n",
        "  test_loss /= len(test_loader.dataset)\n",
        "  test_losses.append(test_loss)\n",
        "  print('\\nTest set: Avg. loss: {:.4f}, Accuracy: {}/{} ({:.0f}%)\\n'.format(\n",
        "    test_loss, correct, len(test_loader.dataset),\n",
        "    100. * correct / len(test_loader.dataset)))"
      ],
      "metadata": {
        "id": "hpd-6dDUQ0OZ"
      },
      "execution_count": null,
      "outputs": []
    },
    {
      "cell_type": "code",
      "source": [
        "# test()\n",
        "for epoch in range(1, n_epochs + 1):\n",
        "  train(epoch)\n",
        "  test()"
      ],
      "metadata": {
        "colab": {
          "base_uri": "https://localhost:8080/"
        },
        "id": "HD0ekPnHQ5G8",
        "outputId": "e651661a-1fde-4a4b-a620-db0f44e51920"
      },
      "execution_count": null,
      "outputs": [
        {
          "output_type": "stream",
          "name": "stderr",
          "text": [
            "<ipython-input-27-6c2218f37724>:17: UserWarning: Implicit dimension choice for log_softmax has been deprecated. Change the call to include dim=X as an argument.\n",
            "  return F.log_softmax(x)\n"
          ]
        },
        {
          "output_type": "stream",
          "name": "stdout",
          "text": [
            "Train Epoch: 1 [0/60000 (0%)]\tLoss: 2.261890\n",
            "Train Epoch: 1 [640/60000 (1%)]\tLoss: 2.310957\n",
            "Train Epoch: 1 [1280/60000 (2%)]\tLoss: 2.282214\n",
            "Train Epoch: 1 [1920/60000 (3%)]\tLoss: 2.266747\n",
            "Train Epoch: 1 [2560/60000 (4%)]\tLoss: 2.256522\n",
            "Train Epoch: 1 [3200/60000 (5%)]\tLoss: 2.213005\n",
            "Train Epoch: 1 [3840/60000 (6%)]\tLoss: 2.235751\n",
            "Train Epoch: 1 [4480/60000 (7%)]\tLoss: 2.192814\n",
            "Train Epoch: 1 [5120/60000 (9%)]\tLoss: 2.119913\n",
            "Train Epoch: 1 [5760/60000 (10%)]\tLoss: 2.118474\n",
            "Train Epoch: 1 [6400/60000 (11%)]\tLoss: 1.943586\n",
            "Train Epoch: 1 [7040/60000 (12%)]\tLoss: 1.692223\n",
            "Train Epoch: 1 [7680/60000 (13%)]\tLoss: 1.806040\n",
            "Train Epoch: 1 [8320/60000 (14%)]\tLoss: 1.447262\n",
            "Train Epoch: 1 [8960/60000 (15%)]\tLoss: 1.568866\n",
            "Train Epoch: 1 [9600/60000 (16%)]\tLoss: 1.306140\n",
            "Train Epoch: 1 [10240/60000 (17%)]\tLoss: 1.323073\n",
            "Train Epoch: 1 [10880/60000 (18%)]\tLoss: 1.404993\n",
            "Train Epoch: 1 [11520/60000 (19%)]\tLoss: 1.076847\n",
            "Train Epoch: 1 [12160/60000 (20%)]\tLoss: 1.171385\n",
            "Train Epoch: 1 [12800/60000 (21%)]\tLoss: 1.319041\n",
            "Train Epoch: 1 [13440/60000 (22%)]\tLoss: 0.920715\n",
            "Train Epoch: 1 [14080/60000 (23%)]\tLoss: 0.850704\n",
            "Train Epoch: 1 [14720/60000 (25%)]\tLoss: 0.727402\n",
            "Train Epoch: 1 [15360/60000 (26%)]\tLoss: 1.148591\n",
            "Train Epoch: 1 [16000/60000 (27%)]\tLoss: 0.921156\n",
            "Train Epoch: 1 [16640/60000 (28%)]\tLoss: 0.776677\n",
            "Train Epoch: 1 [17280/60000 (29%)]\tLoss: 0.802762\n",
            "Train Epoch: 1 [17920/60000 (30%)]\tLoss: 0.947021\n",
            "Train Epoch: 1 [18560/60000 (31%)]\tLoss: 0.534088\n",
            "Train Epoch: 1 [19200/60000 (32%)]\tLoss: 0.732713\n",
            "Train Epoch: 1 [19840/60000 (33%)]\tLoss: 0.769925\n",
            "Train Epoch: 1 [20480/60000 (34%)]\tLoss: 0.862335\n",
            "Train Epoch: 1 [21120/60000 (35%)]\tLoss: 0.663739\n",
            "Train Epoch: 1 [21760/60000 (36%)]\tLoss: 0.531554\n",
            "Train Epoch: 1 [22400/60000 (37%)]\tLoss: 0.596153\n",
            "Train Epoch: 1 [23040/60000 (38%)]\tLoss: 0.613424\n",
            "Train Epoch: 1 [23680/60000 (39%)]\tLoss: 0.728125\n",
            "Train Epoch: 1 [24320/60000 (41%)]\tLoss: 0.703471\n",
            "Train Epoch: 1 [24960/60000 (42%)]\tLoss: 0.785523\n",
            "Train Epoch: 1 [25600/60000 (43%)]\tLoss: 0.638150\n",
            "Train Epoch: 1 [26240/60000 (44%)]\tLoss: 0.573585\n",
            "Train Epoch: 1 [26880/60000 (45%)]\tLoss: 0.698712\n",
            "Train Epoch: 1 [27520/60000 (46%)]\tLoss: 0.515390\n",
            "Train Epoch: 1 [28160/60000 (47%)]\tLoss: 0.706095\n",
            "Train Epoch: 1 [28800/60000 (48%)]\tLoss: 0.690334\n",
            "Train Epoch: 1 [29440/60000 (49%)]\tLoss: 0.630894\n",
            "Train Epoch: 1 [30080/60000 (50%)]\tLoss: 0.748021\n",
            "Train Epoch: 1 [30720/60000 (51%)]\tLoss: 0.460693\n",
            "Train Epoch: 1 [31360/60000 (52%)]\tLoss: 0.356545\n",
            "Train Epoch: 1 [32000/60000 (53%)]\tLoss: 0.629443\n",
            "Train Epoch: 1 [32640/60000 (54%)]\tLoss: 0.440267\n",
            "Train Epoch: 1 [33280/60000 (55%)]\tLoss: 0.450731\n",
            "Train Epoch: 1 [33920/60000 (57%)]\tLoss: 0.457469\n",
            "Train Epoch: 1 [34560/60000 (58%)]\tLoss: 0.432009\n",
            "Train Epoch: 1 [35200/60000 (59%)]\tLoss: 0.588349\n",
            "Train Epoch: 1 [35840/60000 (60%)]\tLoss: 0.563900\n",
            "Train Epoch: 1 [36480/60000 (61%)]\tLoss: 0.528713\n",
            "Train Epoch: 1 [37120/60000 (62%)]\tLoss: 0.497859\n",
            "Train Epoch: 1 [37760/60000 (63%)]\tLoss: 0.347577\n",
            "Train Epoch: 1 [38400/60000 (64%)]\tLoss: 0.493405\n",
            "Train Epoch: 1 [39040/60000 (65%)]\tLoss: 0.388046\n",
            "Train Epoch: 1 [39680/60000 (66%)]\tLoss: 0.273468\n",
            "Train Epoch: 1 [40320/60000 (67%)]\tLoss: 0.567730\n",
            "Train Epoch: 1 [40960/60000 (68%)]\tLoss: 0.368532\n",
            "Train Epoch: 1 [41600/60000 (69%)]\tLoss: 0.480338\n",
            "Train Epoch: 1 [42240/60000 (70%)]\tLoss: 0.349150\n",
            "Train Epoch: 1 [42880/60000 (71%)]\tLoss: 0.485035\n",
            "Train Epoch: 1 [43520/60000 (72%)]\tLoss: 0.405158\n",
            "Train Epoch: 1 [44160/60000 (74%)]\tLoss: 0.409614\n",
            "Train Epoch: 1 [44800/60000 (75%)]\tLoss: 0.535166\n",
            "Train Epoch: 1 [45440/60000 (76%)]\tLoss: 0.476295\n",
            "Train Epoch: 1 [46080/60000 (77%)]\tLoss: 0.412859\n",
            "Train Epoch: 1 [46720/60000 (78%)]\tLoss: 0.412203\n",
            "Train Epoch: 1 [47360/60000 (79%)]\tLoss: 0.418138\n",
            "Train Epoch: 1 [48000/60000 (80%)]\tLoss: 0.577173\n",
            "Train Epoch: 1 [48640/60000 (81%)]\tLoss: 0.318706\n",
            "Train Epoch: 1 [49280/60000 (82%)]\tLoss: 0.299388\n",
            "Train Epoch: 1 [49920/60000 (83%)]\tLoss: 0.342965\n",
            "Train Epoch: 1 [50560/60000 (84%)]\tLoss: 0.440627\n",
            "Train Epoch: 1 [51200/60000 (85%)]\tLoss: 0.733914\n",
            "Train Epoch: 1 [51840/60000 (86%)]\tLoss: 0.346055\n",
            "Train Epoch: 1 [52480/60000 (87%)]\tLoss: 0.239586\n",
            "Train Epoch: 1 [53120/60000 (88%)]\tLoss: 0.415150\n",
            "Train Epoch: 1 [53760/60000 (90%)]\tLoss: 0.438234\n",
            "Train Epoch: 1 [54400/60000 (91%)]\tLoss: 0.390601\n",
            "Train Epoch: 1 [55040/60000 (92%)]\tLoss: 0.570579\n",
            "Train Epoch: 1 [55680/60000 (93%)]\tLoss: 0.329979\n",
            "Train Epoch: 1 [56320/60000 (94%)]\tLoss: 0.415483\n",
            "Train Epoch: 1 [56960/60000 (95%)]\tLoss: 0.473698\n",
            "Train Epoch: 1 [57600/60000 (96%)]\tLoss: 0.400206\n",
            "Train Epoch: 1 [58240/60000 (97%)]\tLoss: 0.344313\n",
            "Train Epoch: 1 [58880/60000 (98%)]\tLoss: 0.413176\n",
            "Train Epoch: 1 [59520/60000 (99%)]\tLoss: 0.299042\n"
          ]
        },
        {
          "output_type": "stream",
          "name": "stderr",
          "text": [
            "/usr/local/lib/python3.8/dist-packages/torch/nn/_reduction.py:42: UserWarning: size_average and reduce args will be deprecated, please use reduction='sum' instead.\n",
            "  warnings.warn(warning.format(ret))\n"
          ]
        },
        {
          "output_type": "stream",
          "name": "stdout",
          "text": [
            "\n",
            "Test set: Avg. loss: 0.1743, Accuracy: 9473/10000 (95%)\n",
            "\n",
            "Train Epoch: 2 [0/60000 (0%)]\tLoss: 0.577310\n",
            "Train Epoch: 2 [640/60000 (1%)]\tLoss: 0.454149\n",
            "Train Epoch: 2 [1280/60000 (2%)]\tLoss: 0.468016\n",
            "Train Epoch: 2 [1920/60000 (3%)]\tLoss: 0.204435\n",
            "Train Epoch: 2 [2560/60000 (4%)]\tLoss: 0.262322\n",
            "Train Epoch: 2 [3200/60000 (5%)]\tLoss: 0.270256\n",
            "Train Epoch: 2 [3840/60000 (6%)]\tLoss: 0.373612\n",
            "Train Epoch: 2 [4480/60000 (7%)]\tLoss: 0.651483\n",
            "Train Epoch: 2 [5120/60000 (9%)]\tLoss: 0.395327\n",
            "Train Epoch: 2 [5760/60000 (10%)]\tLoss: 0.367662\n",
            "Train Epoch: 2 [6400/60000 (11%)]\tLoss: 0.412050\n",
            "Train Epoch: 2 [7040/60000 (12%)]\tLoss: 0.388974\n",
            "Train Epoch: 2 [7680/60000 (13%)]\tLoss: 0.522943\n",
            "Train Epoch: 2 [8320/60000 (14%)]\tLoss: 0.584254\n",
            "Train Epoch: 2 [8960/60000 (15%)]\tLoss: 0.488037\n",
            "Train Epoch: 2 [9600/60000 (16%)]\tLoss: 0.370178\n",
            "Train Epoch: 2 [10240/60000 (17%)]\tLoss: 0.383885\n",
            "Train Epoch: 2 [10880/60000 (18%)]\tLoss: 0.362436\n",
            "Train Epoch: 2 [11520/60000 (19%)]\tLoss: 0.265527\n",
            "Train Epoch: 2 [12160/60000 (20%)]\tLoss: 0.371598\n",
            "Train Epoch: 2 [12800/60000 (21%)]\tLoss: 0.462215\n",
            "Train Epoch: 2 [13440/60000 (22%)]\tLoss: 0.408785\n",
            "Train Epoch: 2 [14080/60000 (23%)]\tLoss: 0.354636\n",
            "Train Epoch: 2 [14720/60000 (25%)]\tLoss: 0.525615\n",
            "Train Epoch: 2 [15360/60000 (26%)]\tLoss: 0.273293\n",
            "Train Epoch: 2 [16000/60000 (27%)]\tLoss: 0.304109\n",
            "Train Epoch: 2 [16640/60000 (28%)]\tLoss: 0.266581\n",
            "Train Epoch: 2 [17280/60000 (29%)]\tLoss: 0.347976\n",
            "Train Epoch: 2 [17920/60000 (30%)]\tLoss: 0.478475\n",
            "Train Epoch: 2 [18560/60000 (31%)]\tLoss: 0.271244\n",
            "Train Epoch: 2 [19200/60000 (32%)]\tLoss: 0.284518\n",
            "Train Epoch: 2 [19840/60000 (33%)]\tLoss: 0.666046\n",
            "Train Epoch: 2 [20480/60000 (34%)]\tLoss: 0.519648\n",
            "Train Epoch: 2 [21120/60000 (35%)]\tLoss: 0.331726\n",
            "Train Epoch: 2 [21760/60000 (36%)]\tLoss: 0.299223\n",
            "Train Epoch: 2 [22400/60000 (37%)]\tLoss: 0.147452\n",
            "Train Epoch: 2 [23040/60000 (38%)]\tLoss: 0.326968\n",
            "Train Epoch: 2 [23680/60000 (39%)]\tLoss: 0.353099\n",
            "Train Epoch: 2 [24320/60000 (41%)]\tLoss: 0.508777\n",
            "Train Epoch: 2 [24960/60000 (42%)]\tLoss: 0.258499\n",
            "Train Epoch: 2 [25600/60000 (43%)]\tLoss: 0.287366\n",
            "Train Epoch: 2 [26240/60000 (44%)]\tLoss: 0.291693\n",
            "Train Epoch: 2 [26880/60000 (45%)]\tLoss: 0.521120\n",
            "Train Epoch: 2 [27520/60000 (46%)]\tLoss: 0.376117\n",
            "Train Epoch: 2 [28160/60000 (47%)]\tLoss: 0.510488\n",
            "Train Epoch: 2 [28800/60000 (48%)]\tLoss: 0.362344\n",
            "Train Epoch: 2 [29440/60000 (49%)]\tLoss: 0.265642\n",
            "Train Epoch: 2 [30080/60000 (50%)]\tLoss: 0.607969\n",
            "Train Epoch: 2 [30720/60000 (51%)]\tLoss: 0.428549\n",
            "Train Epoch: 2 [31360/60000 (52%)]\tLoss: 0.324239\n",
            "Train Epoch: 2 [32000/60000 (53%)]\tLoss: 0.420415\n",
            "Train Epoch: 2 [32640/60000 (54%)]\tLoss: 0.177599\n",
            "Train Epoch: 2 [33280/60000 (55%)]\tLoss: 0.297164\n",
            "Train Epoch: 2 [33920/60000 (57%)]\tLoss: 0.181073\n",
            "Train Epoch: 2 [34560/60000 (58%)]\tLoss: 0.168424\n",
            "Train Epoch: 2 [35200/60000 (59%)]\tLoss: 0.390834\n",
            "Train Epoch: 2 [35840/60000 (60%)]\tLoss: 0.433320\n",
            "Train Epoch: 2 [36480/60000 (61%)]\tLoss: 0.352516\n",
            "Train Epoch: 2 [37120/60000 (62%)]\tLoss: 0.257162\n",
            "Train Epoch: 2 [37760/60000 (63%)]\tLoss: 0.293235\n",
            "Train Epoch: 2 [38400/60000 (64%)]\tLoss: 0.478755\n",
            "Train Epoch: 2 [39040/60000 (65%)]\tLoss: 0.334224\n",
            "Train Epoch: 2 [39680/60000 (66%)]\tLoss: 0.338527\n",
            "Train Epoch: 2 [40320/60000 (67%)]\tLoss: 0.422637\n",
            "Train Epoch: 2 [40960/60000 (68%)]\tLoss: 0.237523\n",
            "Train Epoch: 2 [41600/60000 (69%)]\tLoss: 0.404233\n",
            "Train Epoch: 2 [42240/60000 (70%)]\tLoss: 0.364127\n",
            "Train Epoch: 2 [42880/60000 (71%)]\tLoss: 0.425505\n",
            "Train Epoch: 2 [43520/60000 (72%)]\tLoss: 0.429280\n",
            "Train Epoch: 2 [44160/60000 (74%)]\tLoss: 0.218345\n",
            "Train Epoch: 2 [44800/60000 (75%)]\tLoss: 0.448440\n",
            "Train Epoch: 2 [45440/60000 (76%)]\tLoss: 0.243166\n",
            "Train Epoch: 2 [46080/60000 (77%)]\tLoss: 0.338148\n",
            "Train Epoch: 2 [46720/60000 (78%)]\tLoss: 0.358699\n",
            "Train Epoch: 2 [47360/60000 (79%)]\tLoss: 0.175889\n",
            "Train Epoch: 2 [48000/60000 (80%)]\tLoss: 0.388704\n",
            "Train Epoch: 2 [48640/60000 (81%)]\tLoss: 0.409675\n",
            "Train Epoch: 2 [49280/60000 (82%)]\tLoss: 0.529748\n",
            "Train Epoch: 2 [49920/60000 (83%)]\tLoss: 0.323758\n",
            "Train Epoch: 2 [50560/60000 (84%)]\tLoss: 0.189525\n",
            "Train Epoch: 2 [51200/60000 (85%)]\tLoss: 0.333840\n",
            "Train Epoch: 2 [51840/60000 (86%)]\tLoss: 0.546743\n",
            "Train Epoch: 2 [52480/60000 (87%)]\tLoss: 0.167285\n",
            "Train Epoch: 2 [53120/60000 (88%)]\tLoss: 0.407151\n",
            "Train Epoch: 2 [53760/60000 (90%)]\tLoss: 0.188149\n",
            "Train Epoch: 2 [54400/60000 (91%)]\tLoss: 0.330412\n",
            "Train Epoch: 2 [55040/60000 (92%)]\tLoss: 0.243941\n",
            "Train Epoch: 2 [55680/60000 (93%)]\tLoss: 0.224620\n",
            "Train Epoch: 2 [56320/60000 (94%)]\tLoss: 0.307452\n",
            "Train Epoch: 2 [56960/60000 (95%)]\tLoss: 0.448493\n",
            "Train Epoch: 2 [57600/60000 (96%)]\tLoss: 0.190444\n",
            "Train Epoch: 2 [58240/60000 (97%)]\tLoss: 0.364261\n",
            "Train Epoch: 2 [58880/60000 (98%)]\tLoss: 0.208096\n",
            "Train Epoch: 2 [59520/60000 (99%)]\tLoss: 0.351859\n",
            "\n",
            "Test set: Avg. loss: 0.1135, Accuracy: 9653/10000 (97%)\n",
            "\n",
            "Train Epoch: 3 [0/60000 (0%)]\tLoss: 0.328521\n",
            "Train Epoch: 3 [640/60000 (1%)]\tLoss: 0.179980\n",
            "Train Epoch: 3 [1280/60000 (2%)]\tLoss: 0.433093\n",
            "Train Epoch: 3 [1920/60000 (3%)]\tLoss: 0.390978\n",
            "Train Epoch: 3 [2560/60000 (4%)]\tLoss: 0.427704\n",
            "Train Epoch: 3 [3200/60000 (5%)]\tLoss: 0.232360\n",
            "Train Epoch: 3 [3840/60000 (6%)]\tLoss: 0.254232\n",
            "Train Epoch: 3 [4480/60000 (7%)]\tLoss: 0.405865\n",
            "Train Epoch: 3 [5120/60000 (9%)]\tLoss: 0.437071\n",
            "Train Epoch: 3 [5760/60000 (10%)]\tLoss: 0.274693\n",
            "Train Epoch: 3 [6400/60000 (11%)]\tLoss: 0.334338\n",
            "Train Epoch: 3 [7040/60000 (12%)]\tLoss: 0.115799\n",
            "Train Epoch: 3 [7680/60000 (13%)]\tLoss: 0.239023\n",
            "Train Epoch: 3 [8320/60000 (14%)]\tLoss: 0.194485\n",
            "Train Epoch: 3 [8960/60000 (15%)]\tLoss: 0.363756\n",
            "Train Epoch: 3 [9600/60000 (16%)]\tLoss: 0.224723\n",
            "Train Epoch: 3 [10240/60000 (17%)]\tLoss: 0.392336\n",
            "Train Epoch: 3 [10880/60000 (18%)]\tLoss: 0.205239\n",
            "Train Epoch: 3 [11520/60000 (19%)]\tLoss: 0.558598\n",
            "Train Epoch: 3 [12160/60000 (20%)]\tLoss: 0.432798\n",
            "Train Epoch: 3 [12800/60000 (21%)]\tLoss: 0.435979\n",
            "Train Epoch: 3 [13440/60000 (22%)]\tLoss: 0.439275\n",
            "Train Epoch: 3 [14080/60000 (23%)]\tLoss: 0.218204\n",
            "Train Epoch: 3 [14720/60000 (25%)]\tLoss: 0.328674\n",
            "Train Epoch: 3 [15360/60000 (26%)]\tLoss: 0.338061\n",
            "Train Epoch: 3 [16000/60000 (27%)]\tLoss: 0.269253\n",
            "Train Epoch: 3 [16640/60000 (28%)]\tLoss: 0.348331\n",
            "Train Epoch: 3 [17280/60000 (29%)]\tLoss: 0.206192\n",
            "Train Epoch: 3 [17920/60000 (30%)]\tLoss: 0.340818\n",
            "Train Epoch: 3 [18560/60000 (31%)]\tLoss: 0.480960\n",
            "Train Epoch: 3 [19200/60000 (32%)]\tLoss: 0.219432\n",
            "Train Epoch: 3 [19840/60000 (33%)]\tLoss: 0.196431\n",
            "Train Epoch: 3 [20480/60000 (34%)]\tLoss: 0.717590\n",
            "Train Epoch: 3 [21120/60000 (35%)]\tLoss: 0.308935\n",
            "Train Epoch: 3 [21760/60000 (36%)]\tLoss: 0.144931\n",
            "Train Epoch: 3 [22400/60000 (37%)]\tLoss: 0.251061\n",
            "Train Epoch: 3 [23040/60000 (38%)]\tLoss: 0.329780\n",
            "Train Epoch: 3 [23680/60000 (39%)]\tLoss: 0.248613\n",
            "Train Epoch: 3 [24320/60000 (41%)]\tLoss: 0.387306\n",
            "Train Epoch: 3 [24960/60000 (42%)]\tLoss: 0.253700\n",
            "Train Epoch: 3 [25600/60000 (43%)]\tLoss: 0.588885\n",
            "Train Epoch: 3 [26240/60000 (44%)]\tLoss: 0.168632\n",
            "Train Epoch: 3 [26880/60000 (45%)]\tLoss: 0.280601\n",
            "Train Epoch: 3 [27520/60000 (46%)]\tLoss: 0.322385\n",
            "Train Epoch: 3 [28160/60000 (47%)]\tLoss: 0.163025\n",
            "Train Epoch: 3 [28800/60000 (48%)]\tLoss: 0.315837\n",
            "Train Epoch: 3 [29440/60000 (49%)]\tLoss: 0.353770\n",
            "Train Epoch: 3 [30080/60000 (50%)]\tLoss: 0.280619\n",
            "Train Epoch: 3 [30720/60000 (51%)]\tLoss: 0.161548\n",
            "Train Epoch: 3 [31360/60000 (52%)]\tLoss: 0.307276\n",
            "Train Epoch: 3 [32000/60000 (53%)]\tLoss: 0.470820\n",
            "Train Epoch: 3 [32640/60000 (54%)]\tLoss: 0.347246\n",
            "Train Epoch: 3 [33280/60000 (55%)]\tLoss: 0.199784\n",
            "Train Epoch: 3 [33920/60000 (57%)]\tLoss: 0.122800\n",
            "Train Epoch: 3 [34560/60000 (58%)]\tLoss: 0.273150\n",
            "Train Epoch: 3 [35200/60000 (59%)]\tLoss: 0.291193\n",
            "Train Epoch: 3 [35840/60000 (60%)]\tLoss: 0.411636\n",
            "Train Epoch: 3 [36480/60000 (61%)]\tLoss: 0.271023\n",
            "Train Epoch: 3 [37120/60000 (62%)]\tLoss: 0.249762\n",
            "Train Epoch: 3 [37760/60000 (63%)]\tLoss: 0.345897\n",
            "Train Epoch: 3 [38400/60000 (64%)]\tLoss: 0.320366\n",
            "Train Epoch: 3 [39040/60000 (65%)]\tLoss: 0.241802\n",
            "Train Epoch: 3 [39680/60000 (66%)]\tLoss: 0.214607\n",
            "Train Epoch: 3 [40320/60000 (67%)]\tLoss: 0.457091\n",
            "Train Epoch: 3 [40960/60000 (68%)]\tLoss: 0.451589\n",
            "Train Epoch: 3 [41600/60000 (69%)]\tLoss: 0.281153\n",
            "Train Epoch: 3 [42240/60000 (70%)]\tLoss: 0.167301\n",
            "Train Epoch: 3 [42880/60000 (71%)]\tLoss: 0.285749\n",
            "Train Epoch: 3 [43520/60000 (72%)]\tLoss: 0.299418\n",
            "Train Epoch: 3 [44160/60000 (74%)]\tLoss: 0.283859\n",
            "Train Epoch: 3 [44800/60000 (75%)]\tLoss: 0.363183\n",
            "Train Epoch: 3 [45440/60000 (76%)]\tLoss: 0.234416\n",
            "Train Epoch: 3 [46080/60000 (77%)]\tLoss: 0.148505\n",
            "Train Epoch: 3 [46720/60000 (78%)]\tLoss: 0.391134\n",
            "Train Epoch: 3 [47360/60000 (79%)]\tLoss: 0.251720\n",
            "Train Epoch: 3 [48000/60000 (80%)]\tLoss: 0.118970\n",
            "Train Epoch: 3 [48640/60000 (81%)]\tLoss: 0.190609\n",
            "Train Epoch: 3 [49280/60000 (82%)]\tLoss: 0.125233\n",
            "Train Epoch: 3 [49920/60000 (83%)]\tLoss: 0.332104\n",
            "Train Epoch: 3 [50560/60000 (84%)]\tLoss: 0.189557\n",
            "Train Epoch: 3 [51200/60000 (85%)]\tLoss: 0.262351\n",
            "Train Epoch: 3 [51840/60000 (86%)]\tLoss: 0.257426\n",
            "Train Epoch: 3 [52480/60000 (87%)]\tLoss: 0.178932\n",
            "Train Epoch: 3 [53120/60000 (88%)]\tLoss: 0.140864\n",
            "Train Epoch: 3 [53760/60000 (90%)]\tLoss: 0.373782\n",
            "Train Epoch: 3 [54400/60000 (91%)]\tLoss: 0.138338\n",
            "Train Epoch: 3 [55040/60000 (92%)]\tLoss: 0.134746\n",
            "Train Epoch: 3 [55680/60000 (93%)]\tLoss: 0.260938\n",
            "Train Epoch: 3 [56320/60000 (94%)]\tLoss: 0.100358\n",
            "Train Epoch: 3 [56960/60000 (95%)]\tLoss: 0.258063\n",
            "Train Epoch: 3 [57600/60000 (96%)]\tLoss: 0.324900\n",
            "Train Epoch: 3 [58240/60000 (97%)]\tLoss: 0.278654\n",
            "Train Epoch: 3 [58880/60000 (98%)]\tLoss: 0.201787\n",
            "Train Epoch: 3 [59520/60000 (99%)]\tLoss: 0.296927\n",
            "\n",
            "Test set: Avg. loss: 0.0903, Accuracy: 9705/10000 (97%)\n",
            "\n"
          ]
        }
      ]
    },
    {
      "cell_type": "code",
      "source": [
        "fig = plt.figure()\n",
        "plt.plot(train_counter, train_losses, color='blue')\n",
        "plt.plot(test_counter[:-1], test_losses, color='red')\n",
        "plt.legend(['Train Loss', 'Test Loss'], loc='upper right')\n",
        "plt.xlabel('number of training examples seen')\n",
        "plt.ylabel('negative log likelihood loss')\n",
        "fig"
      ],
      "metadata": {
        "colab": {
          "base_uri": "https://localhost:8080/",
          "height": 541
        },
        "id": "SQEvwVgBRiXi",
        "outputId": "4b56af03-6b1f-4eb4-c926-859cf98c44a7"
      },
      "execution_count": null,
      "outputs": [
        {
          "output_type": "execute_result",
          "data": {
            "text/plain": [
              "<Figure size 432x288 with 1 Axes>"
            ],
            "image/png": "[encoded data removed]"
          },
          "metadata": {},
          "execution_count": 33
        },
        {
          "output_type": "display_data",
          "data": {
            "text/plain": [
              "<Figure size 432x288 with 1 Axes>"
            ],
            "image/png": "[encoded data removed]"
          },
          "metadata": {
            "needs_background": "light"
          }
        }
      ]
    },
    {
      "cell_type": "code",
      "source": [],
      "metadata": {
        "id": "TUFCjgR8Q8cd"
      },
      "execution_count": null,
      "outputs": []
    }
  ]
}